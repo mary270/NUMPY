{
  "nbformat": 4,
  "nbformat_minor": 0,
  "metadata": {
    "colab": {
      "provenance": [],
      "authorship_tag": "ABX9TyO0W9Ap5AS8rYSpeN0AhAoN",
      "include_colab_link": true
    },
    "kernelspec": {
      "name": "python3",
      "display_name": "Python 3"
    },
    "language_info": {
      "name": "python"
    }
  },
  "cells": [
    {
      "cell_type": "markdown",
      "metadata": {
        "id": "view-in-github",
        "colab_type": "text"
      },
      "source": [
        "<a href=\"https://colab.research.google.com/github/mary270/NUMPY/blob/main/mnistdataset_reducer.ipynb\" target=\"_parent\"><img src=\"https://colab.research.google.com/assets/colab-badge.svg\" alt=\"Open In Colab\"/></a>"
      ]
    },
    {
      "cell_type": "markdown",
      "source": [
        "Data Set Reducer"
      ],
      "metadata": {
        "id": "BM2zf4o5i-nx"
      }
    },
    {
      "cell_type": "code",
      "source": [
        "import keras\n",
        "import random\n",
        "import collections\n",
        "import numpy as np\n",
        "import matplotlib.pyplot as plt\n",
        "\n"
      ],
      "metadata": {
        "id": "z1R4Wa1DjRqw"
      },
      "execution_count": 151,
      "outputs": []
    },
    {
      "cell_type": "code",
      "source": [
        "import tensorflow.keras as tk\n",
        "mnist = tk.datasets.mnist\n",
        "(train_images, train_labels), (test_images, test_labels) = mnist.load_data()\n"
      ],
      "metadata": {
        "id": "KYuTZ7pLkIXs"
      },
      "execution_count": 152,
      "outputs": []
    },
    {
      "cell_type": "code",
      "source": [
        "def display_random_images_with_labels(d, n=10):\n",
        "    \"\"\"\n",
        "        accept dataset in tuple form, first index\n",
        "        is np arrays (images) and second is labels\n",
        "        and display n random images with labels\n",
        "        from it\n",
        "        Inputs:\n",
        "            d (tuple): dataset images, dataset labels on same indexs\n",
        "            n (int): number of samples to display (default: 10)\n",
        "        Output:\n",
        "            None\n",
        "    \"\"\"\n",
        "    choices = list(range(len(d[0])))\n",
        "    for i in range(n):\n",
        "        index = random.choice(choices)\n",
        "        choices.remove(index)\n",
        "        print(\"index:\",index)\n",
        "        print(\"Lable:\",d[1][index])\n",
        "        plt.imshow(d[0][index], cmap='gray')\n",
        "        plt.show()\n"
      ],
      "metadata": {
        "id": "iUZdm3LNjnOg"
      },
      "execution_count": 153,
      "outputs": []
    },
    {
      "cell_type": "code",
      "source": [
        "# Loading dataset\n",
        "dataset = keras.datasets.mnist.load_data()\n",
        "print(dataset)"
      ],
      "metadata": {
        "colab": {
          "base_uri": "https://localhost:8080/"
        },
        "id": "Vj56d-z5jfoM",
        "outputId": "f6d1d21a-e6fe-4ed3-dd3e-4472e65128a9"
      },
      "execution_count": 154,
      "outputs": [
        {
          "output_type": "stream",
          "name": "stdout",
          "text": [
            "((array([[[0, 0, 0, ..., 0, 0, 0],\n",
            "        [0, 0, 0, ..., 0, 0, 0],\n",
            "        [0, 0, 0, ..., 0, 0, 0],\n",
            "        ...,\n",
            "        [0, 0, 0, ..., 0, 0, 0],\n",
            "        [0, 0, 0, ..., 0, 0, 0],\n",
            "        [0, 0, 0, ..., 0, 0, 0]],\n",
            "\n",
            "       [[0, 0, 0, ..., 0, 0, 0],\n",
            "        [0, 0, 0, ..., 0, 0, 0],\n",
            "        [0, 0, 0, ..., 0, 0, 0],\n",
            "        ...,\n",
            "        [0, 0, 0, ..., 0, 0, 0],\n",
            "        [0, 0, 0, ..., 0, 0, 0],\n",
            "        [0, 0, 0, ..., 0, 0, 0]],\n",
            "\n",
            "       [[0, 0, 0, ..., 0, 0, 0],\n",
            "        [0, 0, 0, ..., 0, 0, 0],\n",
            "        [0, 0, 0, ..., 0, 0, 0],\n",
            "        ...,\n",
            "        [0, 0, 0, ..., 0, 0, 0],\n",
            "        [0, 0, 0, ..., 0, 0, 0],\n",
            "        [0, 0, 0, ..., 0, 0, 0]],\n",
            "\n",
            "       ...,\n",
            "\n",
            "       [[0, 0, 0, ..., 0, 0, 0],\n",
            "        [0, 0, 0, ..., 0, 0, 0],\n",
            "        [0, 0, 0, ..., 0, 0, 0],\n",
            "        ...,\n",
            "        [0, 0, 0, ..., 0, 0, 0],\n",
            "        [0, 0, 0, ..., 0, 0, 0],\n",
            "        [0, 0, 0, ..., 0, 0, 0]],\n",
            "\n",
            "       [[0, 0, 0, ..., 0, 0, 0],\n",
            "        [0, 0, 0, ..., 0, 0, 0],\n",
            "        [0, 0, 0, ..., 0, 0, 0],\n",
            "        ...,\n",
            "        [0, 0, 0, ..., 0, 0, 0],\n",
            "        [0, 0, 0, ..., 0, 0, 0],\n",
            "        [0, 0, 0, ..., 0, 0, 0]],\n",
            "\n",
            "       [[0, 0, 0, ..., 0, 0, 0],\n",
            "        [0, 0, 0, ..., 0, 0, 0],\n",
            "        [0, 0, 0, ..., 0, 0, 0],\n",
            "        ...,\n",
            "        [0, 0, 0, ..., 0, 0, 0],\n",
            "        [0, 0, 0, ..., 0, 0, 0],\n",
            "        [0, 0, 0, ..., 0, 0, 0]]], dtype=uint8), array([5, 0, 4, ..., 5, 6, 8], dtype=uint8)), (array([[[0, 0, 0, ..., 0, 0, 0],\n",
            "        [0, 0, 0, ..., 0, 0, 0],\n",
            "        [0, 0, 0, ..., 0, 0, 0],\n",
            "        ...,\n",
            "        [0, 0, 0, ..., 0, 0, 0],\n",
            "        [0, 0, 0, ..., 0, 0, 0],\n",
            "        [0, 0, 0, ..., 0, 0, 0]],\n",
            "\n",
            "       [[0, 0, 0, ..., 0, 0, 0],\n",
            "        [0, 0, 0, ..., 0, 0, 0],\n",
            "        [0, 0, 0, ..., 0, 0, 0],\n",
            "        ...,\n",
            "        [0, 0, 0, ..., 0, 0, 0],\n",
            "        [0, 0, 0, ..., 0, 0, 0],\n",
            "        [0, 0, 0, ..., 0, 0, 0]],\n",
            "\n",
            "       [[0, 0, 0, ..., 0, 0, 0],\n",
            "        [0, 0, 0, ..., 0, 0, 0],\n",
            "        [0, 0, 0, ..., 0, 0, 0],\n",
            "        ...,\n",
            "        [0, 0, 0, ..., 0, 0, 0],\n",
            "        [0, 0, 0, ..., 0, 0, 0],\n",
            "        [0, 0, 0, ..., 0, 0, 0]],\n",
            "\n",
            "       ...,\n",
            "\n",
            "       [[0, 0, 0, ..., 0, 0, 0],\n",
            "        [0, 0, 0, ..., 0, 0, 0],\n",
            "        [0, 0, 0, ..., 0, 0, 0],\n",
            "        ...,\n",
            "        [0, 0, 0, ..., 0, 0, 0],\n",
            "        [0, 0, 0, ..., 0, 0, 0],\n",
            "        [0, 0, 0, ..., 0, 0, 0]],\n",
            "\n",
            "       [[0, 0, 0, ..., 0, 0, 0],\n",
            "        [0, 0, 0, ..., 0, 0, 0],\n",
            "        [0, 0, 0, ..., 0, 0, 0],\n",
            "        ...,\n",
            "        [0, 0, 0, ..., 0, 0, 0],\n",
            "        [0, 0, 0, ..., 0, 0, 0],\n",
            "        [0, 0, 0, ..., 0, 0, 0]],\n",
            "\n",
            "       [[0, 0, 0, ..., 0, 0, 0],\n",
            "        [0, 0, 0, ..., 0, 0, 0],\n",
            "        [0, 0, 0, ..., 0, 0, 0],\n",
            "        ...,\n",
            "        [0, 0, 0, ..., 0, 0, 0],\n",
            "        [0, 0, 0, ..., 0, 0, 0],\n",
            "        [0, 0, 0, ..., 0, 0, 0]]], dtype=uint8), array([7, 2, 1, ..., 4, 5, 6], dtype=uint8)))\n"
          ]
        }
      ]
    },
    {
      "cell_type": "code",
      "source": [
        "\n",
        "# first element of both training and testing (dataset[0][0] and dataset[0][0])\n",
        "# represnts images in numpy arrays\n",
        "print(\"There are\",len(dataset[0][0]),\"images in training dataset\")\n",
        "print(\"There are\",len(dataset[1][0]),\"images in training dataset\")\n",
        "print(\"___________________\\n\\n\")\n",
        "# Each image is of shape 28x28\n",
        "# print(dataset[0][0][0].shape)\n",
        "# print(\"___________________\")"
      ],
      "metadata": {
        "colab": {
          "base_uri": "https://localhost:8080/"
        },
        "id": "tL3HSHjVlv1z",
        "outputId": "2ef62454-9726-4742-ec10-d8120b8f70cf"
      },
      "execution_count": 155,
      "outputs": [
        {
          "output_type": "stream",
          "name": "stdout",
          "text": [
            "There are 60000 images in training dataset\n",
            "There are 10000 images in training dataset\n",
            "___________________\n",
            "\n",
            "\n"
          ]
        }
      ]
    },
    {
      "cell_type": "code",
      "source": [
        "# second element of both training and testing (dataset[0][1] and dataset[0][1])\n",
        "# represnts labels of the images, presents on the same index in images\n",
        "# For example dataset[0][0][0] is an image in training dataset\n",
        "# and dataset[0][1][0] is the label of same image is training dataset\n",
        "print(\"Randomly printing 10 images with labels from training dataset\")\n",
        "display_random_images_with_labels(dataset[0])\n",
        "print(\"___________________\\n\\n\")\n",
        "print(\"Randomly printing 10 images with labels from testing dataset\")\n",
        "display_random_images_with_labels(dataset[1])\n",
        "print(\"___________________\\n\\n\")\n",
        "\n",
        "print(\"There are\",len(dataset[0][1]),\"labels in training dataset for\",len(dataset[0][0]),\"images in training dataset\")\n",
        "print(\"There are\",len(dataset[1][1]),\"labels in testing dataset for\",len(dataset[1][0]),\"images in training dataset\")\n",
        "print(\"___________________\\n\\n\")\n",
        "\n",
        "print(\"There are\", len(set(dataset[0][1])),\"unique classes in training dataset\")\n",
        "print(\"Breakdown of each labels is below (format: dict key is label, dict value is occurrence of that label/ number of images for that label)\")\n",
        "display(collections.Counter(dataset[0][1]))\n",
        "print(\"There are\", len(set(dataset[1][1])),\"unique classes in validation dataset\")\n",
        "print(\"Breakdown of each labels is below (format: dict key is label, dict value is occurrence of that label/ number of images for that label)\")\n",
        "display(collections.Counter(dataset[1][1]))\n",
        "print(\"___________________\\n\\n\")\n"
      ],
      "metadata": {
        "colab": {
          "base_uri": "https://localhost:8080/",
          "height": 1000
        },
        "id": "s0N3VKf7mBM1",
        "outputId": "deabf4d7-d692-41e1-8487-f739ba6b470e"
      },
      "execution_count": 156,
      "outputs": [
        {
          "output_type": "stream",
          "name": "stdout",
          "text": [
            "Randomly printing 10 images with labels from training dataset\n",
            "index: 7500\n",
            "Lable: 2\n"
          ]
        },
        {
          "output_type": "display_data",
          "data": {
            "text/plain": [
              "<Figure size 432x288 with 1 Axes>"
            ],
            "image/png": "[encoded data removed]"
          },
          "metadata": {
            "needs_background": "light"
          }
        },
        {
          "output_type": "stream",
          "name": "stdout",
          "text": [
            "index: 59146\n",
            "Lable: 6\n"
          ]
        },
        {
          "output_type": "display_data",
          "data": {
            "text/plain": [
              "<Figure size 432x288 with 1 Axes>"
            ],
            "image/png": "[encoded data removed]"
          },
          "metadata": {
            "needs_background": "light"
          }
        },
        {
          "output_type": "stream",
          "name": "stdout",
          "text": [
            "index: 32390\n",
            "Lable: 8\n"
          ]
        },
        {
          "output_type": "display_data",
          "data": {
            "text/plain": [
              "<Figure size 432x288 with 1 Axes>"
            ],
            "image/png": "[encoded data removed]"
          },
          "metadata": {
            "needs_background": "light"
          }
        },
        {
          "output_type": "stream",
          "name": "stdout",
          "text": [
            "index: 18050\n",
            "Lable: 1\n"
          ]
        },
        {
          "output_type": "display_data",
          "data": {
            "text/plain": [
              "<Figure size 432x288 with 1 Axes>"
            ],
            "image/png": "[encoded data removed]"
          },
          "metadata": {
            "needs_background": "light"
          }
        },
        {
          "output_type": "stream",
          "name": "stdout",
          "text": [
            "index: 35090\n",
            "Lable: 2\n"
          ]
        },
        {
          "output_type": "display_data",
          "data": {
            "text/plain": [
              "<Figure size 432x288 with 1 Axes>"
            ],
            "image/png": "[encoded data removed]"
          },
          "metadata": {
            "needs_background": "light"
          }
        },
        {
          "output_type": "stream",
          "name": "stdout",
          "text": [
            "index: 25249\n",
            "Lable: 2\n"
          ]
        },
        {
          "output_type": "display_data",
          "data": {
            "text/plain": [
              "<Figure size 432x288 with 1 Axes>"
            ],
            "image/png": "[encoded data removed]"
          },
          "metadata": {
            "needs_background": "light"
          }
        },
        {
          "output_type": "stream",
          "name": "stdout",
          "text": [
            "index: 9868\n",
            "Lable: 3\n"
          ]
        },
        {
          "output_type": "display_data",
          "data": {
            "text/plain": [
              "<Figure size 432x288 with 1 Axes>"
            ],
            "image/png": "[encoded data removed]"
          },
          "metadata": {
            "needs_background": "light"
          }
        },
        {
          "output_type": "stream",
          "name": "stdout",
          "text": [
            "index: 45796\n",
            "Lable: 3\n"
          ]
        },
        {
          "output_type": "display_data",
          "data": {
            "text/plain": [
              "<Figure size 432x288 with 1 Axes>"
            ],
            "image/png": "[encoded data removed]"
          },
          "metadata": {
            "needs_background": "light"
          }
        },
        {
          "output_type": "stream",
          "name": "stdout",
          "text": [
            "index: 18263\n",
            "Lable: 0\n"
          ]
        },
        {
          "output_type": "display_data",
          "data": {
            "text/plain": [
              "<Figure size 432x288 with 1 Axes>"
            ],
            "image/png": "[encoded data removed]"
          },
          "metadata": {
            "needs_background": "light"
          }
        },
        {
          "output_type": "stream",
          "name": "stdout",
          "text": [
            "index: 10401\n",
            "Lable: 5\n"
          ]
        },
        {
          "output_type": "display_data",
          "data": {
            "text/plain": [
              "<Figure size 432x288 with 1 Axes>"
            ],
            "image/png": "[encoded data removed]"
          },
          "metadata": {
            "needs_background": "light"
          }
        },
        {
          "output_type": "stream",
          "name": "stdout",
          "text": [
            "___________________\n",
            "\n",
            "\n",
            "Randomly printing 10 images with labels from testing dataset\n",
            "index: 5024\n",
            "Lable: 2\n"
          ]
        },
        {
          "output_type": "display_data",
          "data": {
            "text/plain": [
              "<Figure size 432x288 with 1 Axes>"
            ],
            "image/png": "[encoded data removed]"
          },
          "metadata": {
            "needs_background": "light"
          }
        },
        {
          "output_type": "stream",
          "name": "stdout",
          "text": [
            "index: 3960\n",
            "Lable: 5\n"
          ]
        },
        {
          "output_type": "display_data",
          "data": {
            "text/plain": [
              "<Figure size 432x288 with 1 Axes>"
            ],
            "image/png": "[encoded data removed]"
          },
          "metadata": {
            "needs_background": "light"
          }
        },
        {
          "output_type": "stream",
          "name": "stdout",
          "text": [
            "index: 4485\n",
            "Lable: 7\n"
          ]
        },
        {
          "output_type": "display_data",
          "data": {
            "text/plain": [
              "<Figure size 432x288 with 1 Axes>"
            ],
            "image/png": "[encoded data removed]"
          },
          "metadata": {
            "needs_background": "light"
          }
        },
        {
          "output_type": "stream",
          "name": "stdout",
          "text": [
            "index: 7102\n",
            "Lable: 4\n"
          ]
        },
        {
          "output_type": "display_data",
          "data": {
            "text/plain": [
              "<Figure size 432x288 with 1 Axes>"
            ],
            "image/png": "[encoded data removed]"
          },
          "metadata": {
            "needs_background": "light"
          }
        },
        {
          "output_type": "stream",
          "name": "stdout",
          "text": [
            "index: 317\n",
            "Lable: 5\n"
          ]
        },
        {
          "output_type": "display_data",
          "data": {
            "text/plain": [
              "<Figure size 432x288 with 1 Axes>"
            ],
            "image/png": "[encoded data removed]"
          },
          "metadata": {
            "needs_background": "light"
          }
        },
        {
          "output_type": "stream",
          "name": "stdout",
          "text": [
            "index: 2248\n",
            "Lable: 2\n"
          ]
        },
        {
          "output_type": "display_data",
          "data": {
            "text/plain": [
              "<Figure size 432x288 with 1 Axes>"
            ],
            "image/png": "[encoded data removed]"
          },
          "metadata": {
            "needs_background": "light"
          }
        },
        {
          "output_type": "stream",
          "name": "stdout",
          "text": [
            "index: 5133\n",
            "Lable: 0\n"
          ]
        },
        {
          "output_type": "display_data",
          "data": {
            "text/plain": [
              "<Figure size 432x288 with 1 Axes>"
            ],
            "image/png": "[encoded data removed]"
          },
          "metadata": {
            "needs_background": "light"
          }
        },
        {
          "output_type": "stream",
          "name": "stdout",
          "text": [
            "index: 332\n",
            "Lable: 1\n"
          ]
        },
        {
          "output_type": "display_data",
          "data": {
            "text/plain": [
              "<Figure size 432x288 with 1 Axes>"
            ],
            "image/png": "[encoded data removed]"
          },
          "metadata": {
            "needs_background": "light"
          }
        },
        {
          "output_type": "stream",
          "name": "stdout",
          "text": [
            "index: 2356\n",
            "Lable: 1\n"
          ]
        },
        {
          "output_type": "display_data",
          "data": {
            "text/plain": [
              "<Figure size 432x288 with 1 Axes>"
            ],
            "image/png": "[encoded data removed]"
          },
          "metadata": {
            "needs_background": "light"
          }
        },
        {
          "output_type": "stream",
          "name": "stdout",
          "text": [
            "index: 6842\n",
            "Lable: 6\n"
          ]
        },
        {
          "output_type": "display_data",
          "data": {
            "text/plain": [
              "<Figure size 432x288 with 1 Axes>"
            ],
            "image/png": "[encoded data removed]"
          },
          "metadata": {
            "needs_background": "light"
          }
        },
        {
          "output_type": "stream",
          "name": "stdout",
          "text": [
            "___________________\n",
            "\n",
            "\n",
            "There are 60000 labels in training dataset for 60000 images in training dataset\n",
            "There are 10000 labels in testing dataset for 10000 images in training dataset\n",
            "___________________\n",
            "\n",
            "\n",
            "There are 10 unique classes in training dataset\n",
            "Breakdown of each labels is below (format: dict key is label, dict value is occurrence of that label/ number of images for that label)\n"
          ]
        },
        {
          "output_type": "display_data",
          "data": {
            "text/plain": [
              "Counter({5: 5421,\n",
              "         0: 5923,\n",
              "         4: 5842,\n",
              "         1: 6742,\n",
              "         9: 5949,\n",
              "         2: 5958,\n",
              "         3: 6131,\n",
              "         6: 5918,\n",
              "         7: 6265,\n",
              "         8: 5851})"
            ]
          },
          "metadata": {}
        },
        {
          "output_type": "stream",
          "name": "stdout",
          "text": [
            "There are 10 unique classes in validation dataset\n",
            "Breakdown of each labels is below (format: dict key is label, dict value is occurrence of that label/ number of images for that label)\n"
          ]
        },
        {
          "output_type": "display_data",
          "data": {
            "text/plain": [
              "Counter({7: 1028,\n",
              "         2: 1032,\n",
              "         1: 1135,\n",
              "         0: 980,\n",
              "         4: 982,\n",
              "         9: 1009,\n",
              "         5: 892,\n",
              "         6: 958,\n",
              "         3: 1010,\n",
              "         8: 974})"
            ]
          },
          "metadata": {}
        },
        {
          "output_type": "stream",
          "name": "stdout",
          "text": [
            "___________________\n",
            "\n",
            "\n"
          ]
        }
      ]
    },
    {
      "cell_type": "markdown",
      "source": [
        "we have to reduce the size of this dataset by 10 times.\n",
        "\n",
        "There are currently almost 5000 to 6000 thousand images (total: 60000) for each label in training and almost 1000 images (total: 10000) for each label in testing dataset.\n",
        "\n",
        "You are required to reduce this training dataset so that it will have exactly 600 images for each label (total: 6000) in training dataset and exactly 100 images for each label in testing dataset (total: 1000)\n",
        "\n",
        "new dataset should be stored into new_dataset variable name and should have exactly same format as the original dataset.\n"
      ],
      "metadata": {
        "id": "WSiCmsa-pDuA"
      }
    },
    {
      "cell_type": "code",
      "source": [
        "# Reduce the size of the training dataset\n",
        "new_train_images = []\n",
        "new_train_labels = []\n",
        "for label in range(10):\n",
        "    # Get all images with the current label\n",
        "    label_indices = np.where(train_labels == label)[0]\n",
        "    # Randomly select 600 images\n",
        "    selected_indices = random.sample(list(label_indices), 600)\n",
        "    # Add the selected images to the new training dataset\n",
        "    new_train_images.extend(train_images[selected_indices])\n",
        "    new_train_labels.extend(train_labels[selected_indices])\n"
      ],
      "metadata": {
        "id": "0ySQKo2OtrK5"
      },
      "execution_count": 157,
      "outputs": []
    },
    {
      "cell_type": "code",
      "source": [
        "# Convert the new datasets to numpy arrays\n",
        "new_train_images = np.array(new_train_images)\n",
        "new_train_labels = np.array(new_train_labels)\n"
      ],
      "metadata": {
        "id": "UkFMGZ1BjDiM"
      },
      "execution_count": 158,
      "outputs": []
    },
    {
      "cell_type": "code",
      "source": [
        "# Reduce the size of the testing dataset\n",
        "new_test_images = []\n",
        "new_test_labels = []\n",
        "for label in range(10):\n",
        "    # Get all images with the current label\n",
        "    label_indices = np.where(test_labels == label)[0]\n",
        "    # Randomly select 100 images\n",
        "    selected_indices = random.sample(list(label_indices), 100)\n",
        "    # Add the selected images to the new testing dataset\n",
        "    new_test_images.extend(test_images[selected_indices])\n",
        "    new_test_labels.extend(test_labels[selected_indices])"
      ],
      "metadata": {
        "id": "4Eo6wAaMCEmP"
      },
      "execution_count": 160,
      "outputs": []
    },
    {
      "cell_type": "code",
      "source": [
        "new_test_images = np.array(new_test_images)\n",
        "new_test_labels = np.array(new_test_labels)"
      ],
      "metadata": {
        "id": "8xQ4pnc6vNb6"
      },
      "execution_count": 161,
      "outputs": []
    },
    {
      "cell_type": "code",
      "source": [
        "new_dataset = ((new_train_images, new_train_labels),(new_test_images, new_test_labels))\n"
      ],
      "metadata": {
        "id": "7yk_gBqOvo1b"
      },
      "execution_count": 172,
      "outputs": []
    },
    {
      "cell_type": "markdown",
      "source": [
        "Validation Task\n"
      ],
      "metadata": {
        "id": "Yu4MXYPl27lp"
      }
    },
    {
      "cell_type": "code",
      "source": [
        "# Checking the shape of first image in new training dataset\n",
        "print(new_dataset[0][0][0].shape)\n",
        "print(\"___________________\")\n",
        "\n",
        "\n",
        "# Checking the size of dataset\n",
        "print(\"There are\",len(new_dataset[0][1]),\"labels in training dataset for\",len(new_dataset[0][0]),\"images in training dataset\")\n",
        "print(\"There are\",len(new_dataset[1][1]),\"labels in training dataset for\",len(new_dataset[1][0]),\"images in training dataset\")\n",
        "print(\"___________________\\n\\n\")\n",
        "# Excepted output\n",
        "# There are 6000 labels in training dataset for 6000 images in training dataset\n",
        "# There are 1000 labels in training dataset for 1000 images in training dataset\n",
        "\n",
        "\n",
        "\n",
        "\n",
        "# Checking the number of images per class\n",
        "print(\"There are\", len(set(new_dataset[0][1])),\"unique classes in training dataset\")\n",
        "print(\"Breakdown of each labels is below (format: dict key is label, dict value is occurrence of that label/ number of images for that label)\")\n",
        "display(collections.Counter(new_dataset[0][1]))\n",
        "print(\"There are\", len(set(new_dataset[1][1])),\"unique classes in validation dataset\")\n",
        "print(\"Breakdown of each labels is below (format: dict key is label, dict value is occurrence of that label/ number of images for that label)\")\n",
        "display(collections.Counter(new_dataset[1][1]))\n",
        "print(\"___________________\\n\\n\")\n",
        "# Expected output\n",
        "# There are 10 unique classes in training dataset\n",
        "# Breakdown of each labels is below (format: dict key is label, dict value is occurrence of that label/ number of images for that label)\n",
        "# Counter({0: 600,\n",
        "#          1: 600,\n",
        "#          2: 600,\n",
        "#          3: 600,\n",
        "#          4: 600,\n",
        "#          5: 600,\n",
        "#          6: 600,\n",
        "#          7: 600,\n",
        "#          8: 600,\n",
        "#          9: 600})\n",
        "# There are 10 unique classes in validation dataset\n",
        "# Breakdown of each labels is below (format: dict key is label, dict value is occurrence of that label/ number of images for that label)\n",
        "# Counter({0: 100,\n",
        "#          1: 100,\n",
        "#          2: 100,\n",
        "#          3: 100,\n",
        "#          4: 100,\n",
        "#          5: 100,\n",
        "#          6: 100,\n",
        "#          7: 100,\n",
        "#          8: 100,\n",
        "#          9: 100})\n",
        "\n",
        "\n",
        "# Checking the correctness of indexing of image and its labels\n",
        "print(\"Randomly printing 10 images with labels from training dataset\")\n",
        "display_random_images_with_labels(new_dataset[0])\n",
        "print(\"___________________\\n\\n\")\n",
        "print(\"Randomly printing 10 images with labels from testing dataset\")\n",
        "display_random_images_with_labels(new_dataset[0])\n",
        "print(\"___________________\\n\\n\")\n"
      ],
      "metadata": {
        "colab": {
          "base_uri": "https://localhost:8080/",
          "height": 1000
        },
        "id": "_HrQF-Ss10wS",
        "outputId": "dae416ac-e302-49d4-d747-41008ace44b6"
      },
      "execution_count": 173,
      "outputs": [
        {
          "output_type": "stream",
          "name": "stdout",
          "text": [
            "(28, 28)\n",
            "___________________\n",
            "There are 6000 labels in training dataset for 6000 images in training dataset\n",
            "There are 1000 labels in training dataset for 1000 images in training dataset\n",
            "___________________\n",
            "\n",
            "\n",
            "There are 10 unique classes in training dataset\n",
            "Breakdown of each labels is below (format: dict key is label, dict value is occurrence of that label/ number of images for that label)\n"
          ]
        },
        {
          "output_type": "display_data",
          "data": {
            "text/plain": [
              "Counter({0: 600,\n",
              "         1: 600,\n",
              "         2: 600,\n",
              "         3: 600,\n",
              "         4: 600,\n",
              "         5: 600,\n",
              "         6: 600,\n",
              "         7: 600,\n",
              "         8: 600,\n",
              "         9: 600})"
            ]
          },
          "metadata": {}
        },
        {
          "output_type": "stream",
          "name": "stdout",
          "text": [
            "There are 10 unique classes in validation dataset\n",
            "Breakdown of each labels is below (format: dict key is label, dict value is occurrence of that label/ number of images for that label)\n"
          ]
        },
        {
          "output_type": "display_data",
          "data": {
            "text/plain": [
              "Counter({0: 100,\n",
              "         1: 100,\n",
              "         2: 100,\n",
              "         3: 100,\n",
              "         4: 100,\n",
              "         5: 100,\n",
              "         6: 100,\n",
              "         7: 100,\n",
              "         8: 100,\n",
              "         9: 100})"
            ]
          },
          "metadata": {}
        },
        {
          "output_type": "stream",
          "name": "stdout",
          "text": [
            "___________________\n",
            "\n",
            "\n",
            "Randomly printing 10 images with labels from training dataset\n",
            "index: 2938\n",
            "Lable: 4\n"
          ]
        },
        {
          "output_type": "display_data",
          "data": {
            "text/plain": [
              "<Figure size 432x288 with 1 Axes>"
            ],
            "image/png": "[encoded data removed]"
          },
          "metadata": {
            "needs_background": "light"
          }
        },
        {
          "output_type": "stream",
          "name": "stdout",
          "text": [
            "index: 1468\n",
            "Lable: 2\n"
          ]
        },
        {
          "output_type": "display_data",
          "data": {
            "text/plain": [
              "<Figure size 432x288 with 1 Axes>"
            ],
            "image/png": "[encoded data removed]"
          },
          "metadata": {
            "needs_background": "light"
          }
        },
        {
          "output_type": "stream",
          "name": "stdout",
          "text": [
            "index: 5278\n",
            "Lable: 8\n"
          ]
        },
        {
          "output_type": "display_data",
          "data": {
            "text/plain": [
              "<Figure size 432x288 with 1 Axes>"
            ],
            "image/png": "[encoded data removed]"
          },
          "metadata": {
            "needs_background": "light"
          }
        },
        {
          "output_type": "stream",
          "name": "stdout",
          "text": [
            "index: 3254\n",
            "Lable: 5\n"
          ]
        },
        {
          "output_type": "display_data",
          "data": {
            "text/plain": [
              "<Figure size 432x288 with 1 Axes>"
            ],
            "image/png": "[encoded data removed]"
          },
          "metadata": {
            "needs_background": "light"
          }
        },
        {
          "output_type": "stream",
          "name": "stdout",
          "text": [
            "index: 1424\n",
            "Lable: 2\n"
          ]
        },
        {
          "output_type": "display_data",
          "data": {
            "text/plain": [
              "<Figure size 432x288 with 1 Axes>"
            ],
            "image/png": "[encoded data removed]"
          },
          "metadata": {
            "needs_background": "light"
          }
        },
        {
          "output_type": "stream",
          "name": "stdout",
          "text": [
            "index: 435\n",
            "Lable: 0\n"
          ]
        },
        {
          "output_type": "display_data",
          "data": {
            "text/plain": [
              "<Figure size 432x288 with 1 Axes>"
            ],
            "image/png": "[encoded data removed]"
          },
          "metadata": {
            "needs_background": "light"
          }
        },
        {
          "output_type": "stream",
          "name": "stdout",
          "text": [
            "index: 2070\n",
            "Lable: 3\n"
          ]
        },
        {
          "output_type": "display_data",
          "data": {
            "text/plain": [
              "<Figure size 432x288 with 1 Axes>"
            ],
            "image/png": "[encoded data removed]"
          },
          "metadata": {
            "needs_background": "light"
          }
        },
        {
          "output_type": "stream",
          "name": "stdout",
          "text": [
            "index: 603\n",
            "Lable: 1\n"
          ]
        },
        {
          "output_type": "display_data",
          "data": {
            "text/plain": [
              "<Figure size 432x288 with 1 Axes>"
            ],
            "image/png": "[encoded data removed]"
          },
          "metadata": {
            "needs_background": "light"
          }
        },
        {
          "output_type": "stream",
          "name": "stdout",
          "text": [
            "index: 4013\n",
            "Lable: 6\n"
          ]
        },
        {
          "output_type": "display_data",
          "data": {
            "text/plain": [
              "<Figure size 432x288 with 1 Axes>"
            ],
            "image/png": "[encoded data removed]"
          },
          "metadata": {
            "needs_background": "light"
          }
        },
        {
          "output_type": "stream",
          "name": "stdout",
          "text": [
            "index: 4457\n",
            "Lable: 7\n"
          ]
        },
        {
          "output_type": "display_data",
          "data": {
            "text/plain": [
              "<Figure size 432x288 with 1 Axes>"
            ],
            "image/png": "[encoded data removed]"
          },
          "metadata": {
            "needs_background": "light"
          }
        },
        {
          "output_type": "stream",
          "name": "stdout",
          "text": [
            "___________________\n",
            "\n",
            "\n",
            "Randomly printing 10 images with labels from testing dataset\n",
            "index: 5035\n",
            "Lable: 8\n"
          ]
        },
        {
          "output_type": "display_data",
          "data": {
            "text/plain": [
              "<Figure size 432x288 with 1 Axes>"
            ],
            "image/png": "[encoded data removed]"
          },
          "metadata": {
            "needs_background": "light"
          }
        },
        {
          "output_type": "stream",
          "name": "stdout",
          "text": [
            "index: 4342\n",
            "Lable: 7\n"
          ]
        },
        {
          "output_type": "display_data",
          "data": {
            "text/plain": [
              "<Figure size 432x288 with 1 Axes>"
            ],
            "image/png": "[encoded data removed]"
          },
          "metadata": {
            "needs_background": "light"
          }
        },
        {
          "output_type": "stream",
          "name": "stdout",
          "text": [
            "index: 5027\n",
            "Lable: 8\n"
          ]
        },
        {
          "output_type": "display_data",
          "data": {
            "text/plain": [
              "<Figure size 432x288 with 1 Axes>"
            ],
            "image/png": "[encoded data removed]"
          },
          "metadata": {
            "needs_background": "light"
          }
        },
        {
          "output_type": "stream",
          "name": "stdout",
          "text": [
            "index: 369\n",
            "Lable: 0\n"
          ]
        },
        {
          "output_type": "display_data",
          "data": {
            "text/plain": [
              "<Figure size 432x288 with 1 Axes>"
            ],
            "image/png": "[encoded data removed]"
          },
          "metadata": {
            "needs_background": "light"
          }
        },
        {
          "output_type": "stream",
          "name": "stdout",
          "text": [
            "index: 123\n",
            "Lable: 0\n"
          ]
        },
        {
          "output_type": "display_data",
          "data": {
            "text/plain": [
              "<Figure size 432x288 with 1 Axes>"
            ],
            "image/png": "[encoded data removed]"
          },
          "metadata": {
            "needs_background": "light"
          }
        },
        {
          "output_type": "stream",
          "name": "stdout",
          "text": [
            "index: 2665\n",
            "Lable: 4\n"
          ]
        },
        {
          "output_type": "display_data",
          "data": {
            "text/plain": [
              "<Figure size 432x288 with 1 Axes>"
            ],
            "image/png": "[encoded data removed]"
          },
          "metadata": {
            "needs_background": "light"
          }
        },
        {
          "output_type": "stream",
          "name": "stdout",
          "text": [
            "index: 2584\n",
            "Lable: 4\n"
          ]
        },
        {
          "output_type": "display_data",
          "data": {
            "text/plain": [
              "<Figure size 432x288 with 1 Axes>"
            ],
            "image/png": "[encoded data removed]"
          },
          "metadata": {
            "needs_background": "light"
          }
        },
        {
          "output_type": "stream",
          "name": "stdout",
          "text": [
            "index: 2538\n",
            "Lable: 4\n"
          ]
        },
        {
          "output_type": "display_data",
          "data": {
            "text/plain": [
              "<Figure size 432x288 with 1 Axes>"
            ],
            "image/png": "[encoded data removed]"
          },
          "metadata": {
            "needs_background": "light"
          }
        },
        {
          "output_type": "stream",
          "name": "stdout",
          "text": [
            "index: 514\n",
            "Lable: 0\n"
          ]
        },
        {
          "output_type": "display_data",
          "data": {
            "text/plain": [
              "<Figure size 432x288 with 1 Axes>"
            ],
            "image/png": "[encoded data removed]"
          },
          "metadata": {
            "needs_background": "light"
          }
        },
        {
          "output_type": "stream",
          "name": "stdout",
          "text": [
            "index: 389\n",
            "Lable: 0\n"
          ]
        },
        {
          "output_type": "display_data",
          "data": {
            "text/plain": [
              "<Figure size 432x288 with 1 Axes>"
            ],
            "image/png": "[encoded data removed]"
          },
          "metadata": {
            "needs_background": "light"
          }
        },
        {
          "output_type": "stream",
          "name": "stdout",
          "text": [
            "___________________\n",
            "\n",
            "\n"
          ]
        }
      ]
    }
  ]
}