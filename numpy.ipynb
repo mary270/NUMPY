{
  "nbformat": 4,
  "nbformat_minor": 0,
  "metadata": {
    "colab": {
      "provenance": [],
      "toc_visible": true,
      "authorship_tag": "ABX9TyPocoqF6LdBNgeZVe/Aa24t",
      "include_colab_link": true
    },
    "kernelspec": {
      "name": "python3",
      "display_name": "Python 3"
    },
    "language_info": {
      "name": "python"
    }
  },
  "cells": [
    {
      "cell_type": "markdown",
      "metadata": {
        "id": "view-in-github",
        "colab_type": "text"
      },
      "source": [
        "<a href=\"https://colab.research.google.com/github/mary270/NUMPY/blob/main/numpy.ipynb\" target=\"_parent\"><img src=\"https://colab.research.google.com/assets/colab-badge.svg\" alt=\"Open In Colab\"/></a>"
      ]
    },
    {
      "cell_type": "markdown",
      "source": [
        "NUMPY EXERCISE\n"
      ],
      "metadata": {
        "id": "dHqPDpam0ckh"
      }
    },
    {
      "cell_type": "markdown",
      "source": [],
      "metadata": {
        "id": "3CgOQQzN0Zj1"
      }
    },
    {
      "cell_type": "markdown",
      "source": [
        "1. Import the numpy package under the name np"
      ],
      "metadata": {
        "id": "OQvQXjEvadQO"
      }
    },
    {
      "cell_type": "code",
      "execution_count": null,
      "metadata": {
        "id": "QQBbSMklXAU6"
      },
      "outputs": [],
      "source": [
        "import numpy "
      ]
    },
    {
      "cell_type": "markdown",
      "source": [],
      "metadata": {
        "id": "uNOZJGWM0WVX"
      }
    },
    {
      "cell_type": "markdown",
      "source": [],
      "metadata": {
        "id": "pAav61EFaiDr"
      }
    },
    {
      "cell_type": "code",
      "source": [
        "arr = numpy.array([1,5,7,9,0]) #1-D array\n",
        "arr1 = numpy.array([[3,7,8],[0,6,4]])\n",
        "print(arr1)\n",
        "print(arr)"
      ],
      "metadata": {
        "colab": {
          "base_uri": "https://localhost:8080/"
        },
        "id": "y57G2-ymXKGy",
        "outputId": "1d2f5913-1b09-49ea-d170-74e842f5d26a"
      },
      "execution_count": null,
      "outputs": [
        {
          "output_type": "stream",
          "name": "stdout",
          "text": [
            "[[3 7 8]\n",
            " [0 6 4]]\n",
            "[1 5 7 9 0]\n"
          ]
        }
      ]
    },
    {
      "cell_type": "markdown",
      "source": [
        "2. Print the numpy version and the configuration "
      ],
      "metadata": {
        "id": "Ea6qAuIFbOcd"
      }
    },
    {
      "cell_type": "code",
      "source": [
        "import numpy as np\n",
        "\n",
        "print(np.__version__) #numpy version"
      ],
      "metadata": {
        "colab": {
          "base_uri": "https://localhost:8080/"
        },
        "id": "G_u-xQsxXy6j",
        "outputId": "3e5a44f6-d42d-4aec-eefa-c5995af6ee2e"
      },
      "execution_count": null,
      "outputs": [
        {
          "output_type": "stream",
          "name": "stdout",
          "text": [
            "1.22.4\n"
          ]
        }
      ]
    },
    {
      "cell_type": "markdown",
      "source": [
        "3. Create a null vector of size 10"
      ],
      "metadata": {
        "id": "3c256P0ab8mE"
      }
    },
    {
      "cell_type": "code",
      "source": [
        "arr2 = numpy.zeros(10)  # using zeros\n",
        "print(arr2)"
      ],
      "metadata": {
        "colab": {
          "base_uri": "https://localhost:8080/"
        },
        "id": "rktJNMRnb7d5",
        "outputId": "3318acf5-19cd-4c1f-e4ee-bc132bc944f4"
      },
      "execution_count": null,
      "outputs": [
        {
          "output_type": "stream",
          "name": "stdout",
          "text": [
            "[0. 0. 0. 0. 0. 0. 0. 0. 0. 0.]\n"
          ]
        }
      ]
    },
    {
      "cell_type": "markdown",
      "source": [
        " 4- How to find the memory size of any array"
      ],
      "metadata": {
        "id": "wFPGtZnxceSf"
      }
    },
    {
      "cell_type": "code",
      "source": [
        "arr = numpy.zeros((5,5))\n",
        "print(\"%d bytes \" % (arr.size * arr.itemsize))"
      ],
      "metadata": {
        "colab": {
          "base_uri": "https://localhost:8080/"
        },
        "id": "W2dTe5H2cn_p",
        "outputId": "5f0b4439-8ec5-468f-a7da-ea35847750e2"
      },
      "execution_count": null,
      "outputs": [
        {
          "output_type": "stream",
          "name": "stdout",
          "text": [
            "200 bytes \n"
          ]
        }
      ]
    },
    {
      "cell_type": "markdown",
      "source": [
        "5. How to get the documentation of the numpy add function from the command line?\n"
      ],
      "metadata": {
        "id": "8PY_GXP4eQ02"
      }
    },
    {
      "cell_type": "code",
      "source": [
        "arr = numpy.array((4,4))\n",
        "arr\n",
        "a= (np.info())\n",
        "print(a)\n"
      ],
      "metadata": {
        "colab": {
          "base_uri": "https://localhost:8080/"
        },
        "id": "vkOa0SqIeaJn",
        "outputId": "98f78560-1b41-46d2-94a8-d35b8b96ffce"
      },
      "execution_count": null,
      "outputs": [
        {
          "output_type": "stream",
          "name": "stderr",
          "text": [
            "ERROR:root:File `'python.py'` not found.\n"
          ]
        },
        {
          "output_type": "stream",
          "name": "stdout",
          "text": [
            " info(object=None, maxwidth=76,\n",
            "      output=<ipykernel.iostream.OutStream object at 0x7f863248b7f0>,\n",
            "      toplevel='numpy')\n",
            "\n",
            "Get help information for a function, class, or module.\n",
            "\n",
            "Parameters\n",
            "----------\n",
            "object : object or str, optional\n",
            "    Input object or name to get information about. If `object` is a\n",
            "    numpy object, its docstring is given. If it is a string, available\n",
            "    modules are searched for matching objects.  If None, information\n",
            "    about `info` itself is returned.\n",
            "maxwidth : int, optional\n",
            "    Printing width.\n",
            "output : file like object, optional\n",
            "    File like object that the output is written to, default is\n",
            "    ``stdout``.  The object has to be opened in 'w' or 'a' mode.\n",
            "toplevel : str, optional\n",
            "    Start search at this level.\n",
            "\n",
            "See Also\n",
            "--------\n",
            "source, lookfor\n",
            "\n",
            "Notes\n",
            "-----\n",
            "When used interactively with an object, ``np.info(obj)`` is equivalent\n",
            "to ``help(obj)`` on the Python prompt or ``obj?`` on the IPython\n",
            "prompt.\n",
            "\n",
            "Examples\n",
            "--------\n",
            ">>> np.info(np.polyval) # doctest: +SKIP\n",
            "   polyval(p, x)\n",
            "     Evaluate the polynomial p at x.\n",
            "     ...\n",
            "\n",
            "When using a string for `object` it is possible to get multiple results.\n",
            "\n",
            ">>> np.info('fft') # doctest: +SKIP\n",
            "     *** Found in numpy ***\n",
            "Core FFT routines\n",
            "...\n",
            "     *** Found in numpy.fft ***\n",
            " fft(a, n=None, axis=-1)\n",
            "...\n",
            "     *** Repeat reference found in numpy.fft.fftpack ***\n",
            "     *** Total of 3 references found. ***\n",
            "None\n"
          ]
        }
      ]
    },
    {
      "cell_type": "code",
      "source": [
        "%run python -c \"import numpy; numpy.info(numpy.add)\""
      ],
      "metadata": {
        "colab": {
          "base_uri": "https://localhost:8080/"
        },
        "id": "0Rmb0nqzfo9O",
        "outputId": "90efddf8-4a67-4a64-9812-171f53df02e6"
      },
      "execution_count": null,
      "outputs": [
        {
          "output_type": "stream",
          "name": "stderr",
          "text": [
            "ERROR:root:File `'python.py'` not found.\n"
          ]
        }
      ]
    },
    {
      "cell_type": "markdown",
      "source": [
        "6. Create a null vector of size 10 but the fifth value which is 1\n"
      ],
      "metadata": {
        "id": "pTk_j7arg022"
      }
    },
    {
      "cell_type": "code",
      "source": [
        "arr = numpy.zeros((10,10))\n",
        "arr[4] =1\n",
        "print(arr)"
      ],
      "metadata": {
        "colab": {
          "base_uri": "https://localhost:8080/"
        },
        "id": "O_Yx4nT-g8GI",
        "outputId": "f175400a-4469-4aa7-b0f3-166ce725a82f"
      },
      "execution_count": null,
      "outputs": [
        {
          "output_type": "stream",
          "name": "stdout",
          "text": [
            "[[0. 0. 0. 0. 0. 0. 0. 0. 0. 0.]\n",
            " [0. 0. 0. 0. 0. 0. 0. 0. 0. 0.]\n",
            " [0. 0. 0. 0. 0. 0. 0. 0. 0. 0.]\n",
            " [0. 0. 0. 0. 0. 0. 0. 0. 0. 0.]\n",
            " [1. 1. 1. 1. 1. 1. 1. 1. 1. 1.]\n",
            " [0. 0. 0. 0. 0. 0. 0. 0. 0. 0.]\n",
            " [0. 0. 0. 0. 0. 0. 0. 0. 0. 0.]\n",
            " [0. 0. 0. 0. 0. 0. 0. 0. 0. 0.]\n",
            " [0. 0. 0. 0. 0. 0. 0. 0. 0. 0.]\n",
            " [0. 0. 0. 0. 0. 0. 0. 0. 0. 0.]]\n"
          ]
        }
      ]
    },
    {
      "cell_type": "markdown",
      "source": [
        "7. Create a vector with values ranging from 10 to 49"
      ],
      "metadata": {
        "id": "_b92etGAhbwr"
      }
    },
    {
      "cell_type": "code",
      "source": [
        "arr = np.arange(10,50)  # using np.arange\n",
        "print(arr)"
      ],
      "metadata": {
        "colab": {
          "base_uri": "https://localhost:8080/"
        },
        "id": "mMoxmc3LhmAU",
        "outputId": "0b9c1b98-acbf-4002-fa77-cb49f945ed0e"
      },
      "execution_count": null,
      "outputs": [
        {
          "output_type": "stream",
          "name": "stdout",
          "text": [
            "[10 11 12 13 14 15 16 17 18 19 20 21 22 23 24 25 26 27 28 29 30 31 32 33\n",
            " 34 35 36 37 38 39 40 41 42 43 44 45 46 47 48 49]\n"
          ]
        }
      ]
    },
    {
      "cell_type": "markdown",
      "source": [
        "8. Reverse a vector (first element becomes last)"
      ],
      "metadata": {
        "id": "UvKKFezoig5s"
      }
    },
    {
      "cell_type": "code",
      "source": [
        "arr = numpy.array((10,4,8,7,4))\n",
        "v=arr[::-1]\n",
        "print(v)"
      ],
      "metadata": {
        "colab": {
          "base_uri": "https://localhost:8080/"
        },
        "id": "BkzT_KCGiiHj",
        "outputId": "7e6e5af9-78c3-4deb-cb5e-0c990001b6fd"
      },
      "execution_count": null,
      "outputs": [
        {
          "output_type": "stream",
          "name": "stdout",
          "text": [
            "[ 4  7  8  4 10]\n"
          ]
        }
      ]
    },
    {
      "cell_type": "code",
      "source": [
        "arr = np.arange(50)\n",
        "v=arr[::-1]\n",
        "print(arr)\n",
        "print(v)"
      ],
      "metadata": {
        "colab": {
          "base_uri": "https://localhost:8080/"
        },
        "id": "1sD08uN2k5bT",
        "outputId": "a0cb5f8b-d4c1-4d63-a28b-320e12ed6072"
      },
      "execution_count": null,
      "outputs": [
        {
          "output_type": "stream",
          "name": "stdout",
          "text": [
            "[ 0  1  2  3  4  5  6  7  8  9 10 11 12 13 14 15 16 17 18 19 20 21 22 23\n",
            " 24 25 26 27 28 29 30 31 32 33 34 35 36 37 38 39 40 41 42 43 44 45 46 47\n",
            " 48 49]\n",
            "[49 48 47 46 45 44 43 42 41 40 39 38 37 36 35 34 33 32 31 30 29 28 27 26\n",
            " 25 24 23 22 21 20 19 18 17 16 15 14 13 12 11 10  9  8  7  6  5  4  3  2\n",
            "  1  0]\n"
          ]
        }
      ]
    },
    {
      "cell_type": "markdown",
      "source": [
        "9. Create a 3x3 matrix with values ranging from 0 to 8"
      ],
      "metadata": {
        "id": "7BGeaPjmkGor"
      }
    },
    {
      "cell_type": "code",
      "source": [
        "arr = np.arange(9).reshape(3,3)\n",
        "print(arr)"
      ],
      "metadata": {
        "colab": {
          "base_uri": "https://localhost:8080/"
        },
        "id": "3h_eNbP-kjjY",
        "outputId": "6f3e6adb-b7d2-4269-99ec-c2d4c64e66d0"
      },
      "execution_count": null,
      "outputs": [
        {
          "output_type": "stream",
          "name": "stdout",
          "text": [
            "[[0 1 2]\n",
            " [3 4 5]\n",
            " [6 7 8]]\n"
          ]
        }
      ]
    },
    {
      "cell_type": "markdown",
      "source": [
        "10. Find indices of non-zero elements from [1,2,0,0,4,0]"
      ],
      "metadata": {
        "id": "u-4KDrlaltOl"
      }
    },
    {
      "cell_type": "code",
      "source": [
        "arr = np.nonzero([1,2,0,0,4,0])\n",
        "\n",
        "print(arr)"
      ],
      "metadata": {
        "colab": {
          "base_uri": "https://localhost:8080/"
        },
        "id": "7vvVBQd6lux1",
        "outputId": "c5ec6631-cbc8-4227-f966-08d83ca8f7ae"
      },
      "execution_count": null,
      "outputs": [
        {
          "output_type": "stream",
          "name": "stdout",
          "text": [
            "(array([0, 1, 4]),)\n"
          ]
        }
      ]
    },
    {
      "cell_type": "markdown",
      "source": [
        "11. Create a 3x3 identity matrix "
      ],
      "metadata": {
        "id": "wfOj5Z4gn8Eg"
      }
    },
    {
      "cell_type": "code",
      "source": [
        "arr = np.eye(3) # np.eye will create 3 by 3 identity matrix\n",
        "arr"
      ],
      "metadata": {
        "colab": {
          "base_uri": "https://localhost:8080/"
        },
        "id": "e4jZdAS3n-4T",
        "outputId": "7867ad05-7059-4079-8a64-c0e805595b5b"
      },
      "execution_count": null,
      "outputs": [
        {
          "output_type": "execute_result",
          "data": {
            "text/plain": [
              "array([[1., 0., 0.],\n",
              "       [0., 1., 0.],\n",
              "       [0., 0., 1.]])"
            ]
          },
          "metadata": {},
          "execution_count": 53
        }
      ]
    },
    {
      "cell_type": "markdown",
      "source": [
        "12. Create a 3x3x3 array with random values"
      ],
      "metadata": {
        "id": "xTl6stpPoM9w"
      }
    },
    {
      "cell_type": "code",
      "source": [
        "arr = np.random.random((3,3,3))\n",
        "arr"
      ],
      "metadata": {
        "colab": {
          "base_uri": "https://localhost:8080/"
        },
        "id": "iUuVk3VboQcx",
        "outputId": "6d3d1d08-9e9b-410f-a534-ace90022605a"
      },
      "execution_count": null,
      "outputs": [
        {
          "output_type": "execute_result",
          "data": {
            "text/plain": [
              "array([[[0.32640056, 0.50369369, 0.05749176],\n",
              "        [0.12038675, 0.69962322, 0.03921857],\n",
              "        [0.38571985, 0.58177093, 0.69597334]],\n",
              "\n",
              "       [[0.75728932, 0.08393615, 0.3532424 ],\n",
              "        [0.75773732, 0.95577354, 0.97136382],\n",
              "        [0.03918007, 0.37803187, 0.94842436]],\n",
              "\n",
              "       [[0.32613536, 0.99848398, 0.94307428],\n",
              "        [0.06084309, 0.34807776, 0.25368492],\n",
              "        [0.69045245, 0.18910755, 0.57842393]]])"
            ]
          },
          "metadata": {},
          "execution_count": 56
        }
      ]
    },
    {
      "cell_type": "markdown",
      "source": [
        "13. Create a 10x10 array with random values and find the minimum and maximum values"
      ],
      "metadata": {
        "id": "LQGvSaOCo8mx"
      }
    },
    {
      "cell_type": "code",
      "source": [
        "arr = np.random.random((10,10))\n",
        "min = arr.min()\n",
        "print(arr)\n",
        "print(min)\n",
        "max= arr.max()\n",
        "print(max)"
      ],
      "metadata": {
        "colab": {
          "base_uri": "https://localhost:8080/"
        },
        "id": "oGhKNJZbo93k",
        "outputId": "bd3b927e-d118-4d04-eb36-1883f0a5c177"
      },
      "execution_count": null,
      "outputs": [
        {
          "output_type": "stream",
          "name": "stdout",
          "text": [
            "[[0.71949624 0.05221271 0.10892797 0.15452723 0.25529758 0.16287985\n",
            "  0.74092651 0.68589726 0.01844658 0.04499879]\n",
            " [0.0818968  0.22764811 0.84272431 0.84484981 0.63540361 0.00394803\n",
            "  0.57552776 0.01577282 0.23476525 0.8036728 ]\n",
            " [0.86546483 0.57390165 0.14248913 0.93140697 0.41856572 0.04238974\n",
            "  0.54143086 0.57815878 0.92391207 0.45409354]\n",
            " [0.94815394 0.0825381  0.49048139 0.20029617 0.85777418 0.05862992\n",
            "  0.77144813 0.45226589 0.39109515 0.72161995]\n",
            " [0.92146961 0.06972712 0.79486934 0.24323586 0.99380539 0.6372932\n",
            "  0.44667217 0.70851775 0.90378339 0.61790817]\n",
            " [0.59743606 0.69226468 0.93841661 0.21150827 0.86397083 0.00366422\n",
            "  0.37990339 0.94116789 0.12569509 0.78566346]\n",
            " [0.27692195 0.18195966 0.0511415  0.36334764 0.05596746 0.14603014\n",
            "  0.97670106 0.44267498 0.5549207  0.83144873]\n",
            " [0.01484155 0.69661461 0.55647164 0.24012884 0.30632456 0.82692691\n",
            "  0.4623454  0.69545377 0.9420381  0.71754045]\n",
            " [0.16401659 0.11887325 0.6368174  0.61585577 0.94952987 0.30652587\n",
            "  0.14810918 0.87749514 0.22285392 0.0352596 ]\n",
            " [0.45089971 0.62895814 0.65816786 0.82874859 0.38506998 0.75315213\n",
            "  0.32526087 0.77628109 0.42429286 0.54470452]]\n",
            "0.0036642170362953808\n",
            "0.993805392702798\n"
          ]
        }
      ]
    },
    {
      "cell_type": "markdown",
      "source": [
        "14. Create a random vector of size 30 and find the mean value"
      ],
      "metadata": {
        "id": "t3sojzQ1qJKc"
      }
    },
    {
      "cell_type": "code",
      "source": [
        "arr = np.random.random(30)\n",
        "print(arr)\n",
        "mean = arr.mean()\n",
        "print(mean)"
      ],
      "metadata": {
        "colab": {
          "base_uri": "https://localhost:8080/"
        },
        "id": "SAnFoELwqKSH",
        "outputId": "fbf5ff4b-0e7b-40a4-b416-0331c9131587"
      },
      "execution_count": null,
      "outputs": [
        {
          "output_type": "stream",
          "name": "stdout",
          "text": [
            "[0.27500547 0.83286255 0.37717887 0.82408722 0.03940758 0.40696203\n",
            " 0.17707378 0.33422678 0.32002004 0.29621847 0.94826565 0.06703005\n",
            " 0.23526715 0.29003586 0.70726207 0.07201682 0.17935489 0.18674021\n",
            " 0.6423102  0.16518109 0.84737217 0.06154231 0.37429617 0.71334324\n",
            " 0.9044616  0.63648382 0.20773091 0.05326754 0.51934374 0.1560737 ]\n",
            "0.3950140662763219\n"
          ]
        }
      ]
    },
    {
      "cell_type": "markdown",
      "source": [
        "15. Create a 2d array with 1 on the border and 0 inside"
      ],
      "metadata": {
        "id": "nBgXDpxIqjI9"
      }
    },
    {
      "cell_type": "code",
      "source": [
        "arr = np.ones((10,10))\n",
        "arr[1:-1,1:-1]=0\n",
        "print(arr)\n"
      ],
      "metadata": {
        "colab": {
          "base_uri": "https://localhost:8080/"
        },
        "id": "JO33aS-LqkKT",
        "outputId": "f644845c-0313-4c15-8bd1-1ac0d2666524"
      },
      "execution_count": null,
      "outputs": [
        {
          "output_type": "stream",
          "name": "stdout",
          "text": [
            "[[1. 1. 1. 1. 1. 1. 1. 1. 1. 1.]\n",
            " [1. 0. 0. 0. 0. 0. 0. 0. 0. 1.]\n",
            " [1. 0. 0. 0. 0. 0. 0. 0. 0. 1.]\n",
            " [1. 0. 0. 0. 0. 0. 0. 0. 0. 1.]\n",
            " [1. 0. 0. 0. 0. 0. 0. 0. 0. 1.]\n",
            " [1. 0. 0. 0. 0. 0. 0. 0. 0. 1.]\n",
            " [1. 0. 0. 0. 0. 0. 0. 0. 0. 1.]\n",
            " [1. 0. 0. 0. 0. 0. 0. 0. 0. 1.]\n",
            " [1. 0. 0. 0. 0. 0. 0. 0. 0. 1.]\n",
            " [1. 1. 1. 1. 1. 1. 1. 1. 1. 1.]]\n"
          ]
        }
      ]
    },
    {
      "cell_type": "markdown",
      "source": [
        "16. How to add a border (filled with 0's) around an existing array? "
      ],
      "metadata": {
        "id": "pEaUqtzQry-I"
      }
    },
    {
      "cell_type": "code",
      "source": [
        "arr = np.ones((7,7))\n",
        "arr[:,[0,1]]=0\n",
        "arr[[0,1],:]=0\n",
        "print(arr)\n",
        "\n"
      ],
      "metadata": {
        "colab": {
          "base_uri": "https://localhost:8080/"
        },
        "id": "R64GhkHCr3nh",
        "outputId": "7b884387-bf8f-4e87-e962-92692cb268d2"
      },
      "execution_count": null,
      "outputs": [
        {
          "output_type": "stream",
          "name": "stdout",
          "text": [
            "[[0. 0. 0. 0. 0. 0. 0.]\n",
            " [0. 0. 0. 0. 0. 0. 0.]\n",
            " [0. 0. 1. 1. 1. 1. 1.]\n",
            " [0. 0. 1. 1. 1. 1. 1.]\n",
            " [0. 0. 1. 1. 1. 1. 1.]\n",
            " [0. 0. 1. 1. 1. 1. 1.]\n",
            " [0. 0. 1. 1. 1. 1. 1.]]\n"
          ]
        }
      ]
    },
    {
      "cell_type": "code",
      "source": [
        "arr = np.ones((3,3))\n",
        "np.pad(arr, pad_width=1, mode='constant', constant_values=0)\n",
        "print(type(arr))"
      ],
      "metadata": {
        "colab": {
          "base_uri": "https://localhost:8080/"
        },
        "id": "CXUQpb8SuE9L",
        "outputId": "c6ba6579-cd8b-4f7a-9e41-13797aaf4781"
      },
      "execution_count": null,
      "outputs": [
        {
          "output_type": "stream",
          "name": "stdout",
          "text": [
            "<class 'numpy.ndarray'>\n"
          ]
        }
      ]
    },
    {
      "cell_type": "markdown",
      "source": [
        "17. What is the result of the following expression?"
      ],
      "metadata": {
        "id": "rQYJ9eJMu1dN"
      }
    },
    {
      "cell_type": "code",
      "source": [
        "print(0 * np.nan)\n",
        "print(np.nan == np.nan)\n",
        "print(np.inf > np.nan)\n",
        "print(np.nan - np.nan)\n",
        "print(np.nan in set([np.nan]))\n",
        "print(0.3 == 3 * 0.1)"
      ],
      "metadata": {
        "colab": {
          "base_uri": "https://localhost:8080/"
        },
        "id": "cWiKRDgtu2eg",
        "outputId": "6fa89acf-7d23-4bbb-f5e8-f3d255443700"
      },
      "execution_count": null,
      "outputs": [
        {
          "output_type": "stream",
          "name": "stdout",
          "text": [
            "nan\n",
            "False\n",
            "False\n",
            "nan\n",
            "True\n",
            "False\n"
          ]
        }
      ]
    },
    {
      "cell_type": "markdown",
      "source": [
        "18. Create a 5x5 matrix with values 1,2,3,4 just below the diagonal"
      ],
      "metadata": {
        "id": "JfzF_eI1vBUu"
      }
    },
    {
      "cell_type": "code",
      "source": [
        "arr = np.diag(1+np.arange(4), k= -1)\n",
        "print (arr)"
      ],
      "metadata": {
        "colab": {
          "base_uri": "https://localhost:8080/"
        },
        "id": "J2TlDet7vCna",
        "outputId": "9b1bff75-7202-4578-b76e-9a6d59ee8b03"
      },
      "execution_count": null,
      "outputs": [
        {
          "output_type": "stream",
          "name": "stdout",
          "text": [
            "[[0 0 0 0 0]\n",
            " [1 0 0 0 0]\n",
            " [0 2 0 0 0]\n",
            " [0 0 3 0 0]\n",
            " [0 0 0 4 0]]\n"
          ]
        }
      ]
    },
    {
      "cell_type": "markdown",
      "source": [
        "19. Create a 8x8 matrix and fill it with a checkerboard pattern"
      ],
      "metadata": {
        "id": "KQrLw4XSwK04"
      }
    },
    {
      "cell_type": "code",
      "source": [
        "arr = np.zeros((8,8),dtype=int)\n",
        "arr[1::2,::2] = 1\n",
        "arr[::2,1::2] = 1\n",
        "print(arr)"
      ],
      "metadata": {
        "colab": {
          "base_uri": "https://localhost:8080/"
        },
        "id": "FPKShwD6wL8t",
        "outputId": "2f413a2e-e7e0-401f-91d2-6eeb54e6b6c4"
      },
      "execution_count": null,
      "outputs": [
        {
          "output_type": "stream",
          "name": "stdout",
          "text": [
            "[[0 1 0 1 0 1 0 1]\n",
            " [1 0 1 0 1 0 1 0]\n",
            " [0 1 0 1 0 1 0 1]\n",
            " [1 0 1 0 1 0 1 0]\n",
            " [0 1 0 1 0 1 0 1]\n",
            " [1 0 1 0 1 0 1 0]\n",
            " [0 1 0 1 0 1 0 1]\n",
            " [1 0 1 0 1 0 1 0]]\n"
          ]
        }
      ]
    },
    {
      "cell_type": "markdown",
      "source": [
        "20. Consider a (6,7,8) shape array, what is the index (x,y,z) of the 100th element? "
      ],
      "metadata": {
        "id": "dr0054vCxjDo"
      }
    },
    {
      "cell_type": "code",
      "source": [
        "arr = np.unravel_index(99,(6,7,8))\n",
        "print(arr)"
      ],
      "metadata": {
        "colab": {
          "base_uri": "https://localhost:8080/"
        },
        "id": "-OZafpolxt2y",
        "outputId": "62304363-1a58-4449-801d-1bcaf6cc53a2"
      },
      "execution_count": null,
      "outputs": [
        {
          "output_type": "stream",
          "name": "stdout",
          "text": [
            "(1, 5, 3)\n"
          ]
        }
      ]
    }
  ]
}